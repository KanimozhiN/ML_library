{
 "cells": [
  {
   "cell_type": "code",
   "execution_count": 3,
   "id": "a70c0f4c",
   "metadata": {},
   "outputs": [],
   "source": [
    "import pandas as pd\n",
    "import numpy as np"
   ]
  },
  {
   "cell_type": "code",
   "execution_count": 4,
   "id": "80c15be6",
   "metadata": {},
   "outputs": [],
   "source": [
    "labels=['w','x','y','z']\n",
    "list=[10,20,30,40]\n",
    "array=np.array([10,20,30,40])\n",
    "dict={'w':10,'x':20,'y':30,'z':40}\n"
   ]
  },
  {
   "cell_type": "code",
   "execution_count": 5,
   "id": "a3fc32fc",
   "metadata": {},
   "outputs": [
    {
     "data": {
      "text/plain": [
       "0    10\n",
       "1    20\n",
       "2    30\n",
       "3    40\n",
       "dtype: int64"
      ]
     },
     "execution_count": 5,
     "metadata": {},
     "output_type": "execute_result"
    }
   ],
   "source": [
    "pd.Series(data=list)"
   ]
  },
  {
   "cell_type": "code",
   "execution_count": 6,
   "id": "e6697855",
   "metadata": {},
   "outputs": [
    {
     "data": {
      "text/plain": [
       "w    10\n",
       "x    20\n",
       "y    30\n",
       "z    40\n",
       "dtype: int64"
      ]
     },
     "execution_count": 6,
     "metadata": {},
     "output_type": "execute_result"
    }
   ],
   "source": [
    "pd.Series(data=list,index=labels)"
   ]
  },
  {
   "cell_type": "code",
   "execution_count": 7,
   "id": "94336169",
   "metadata": {},
   "outputs": [
    {
     "data": {
      "text/plain": [
       "w    10\n",
       "x    20\n",
       "y    30\n",
       "z    40\n",
       "dtype: int32"
      ]
     },
     "execution_count": 7,
     "metadata": {},
     "output_type": "execute_result"
    }
   ],
   "source": [
    "pd.Series(array,labels)"
   ]
  },
  {
   "cell_type": "code",
   "execution_count": 8,
   "id": "3ba976b9",
   "metadata": {},
   "outputs": [
    {
     "data": {
      "text/plain": [
       "w    10\n",
       "x    20\n",
       "y    30\n",
       "z    40\n",
       "dtype: int64"
      ]
     },
     "execution_count": 8,
     "metadata": {},
     "output_type": "execute_result"
    }
   ],
   "source": [
    "pd.Series(dict)"
   ]
  },
  {
   "cell_type": "markdown",
   "id": "1f971a5e",
   "metadata": {},
   "source": [
    "### Data frame and indexing"
   ]
  },
  {
   "cell_type": "code",
   "execution_count": 10,
   "id": "04ebeda8",
   "metadata": {},
   "outputs": [
    {
     "data": {
      "text/plain": [
       "cricket       1\n",
       "football      2\n",
       "basketball    3\n",
       "golf          4\n",
       "dtype: int64"
      ]
     },
     "execution_count": 10,
     "metadata": {},
     "output_type": "execute_result"
    }
   ],
   "source": [
    "sports1=pd.Series([1,2,3,4],index=['cricket','football','basketball','golf'])\n",
    "sports1"
   ]
  },
  {
   "cell_type": "code",
   "execution_count": 11,
   "id": "fa3a7174",
   "metadata": {},
   "outputs": [
    {
     "data": {
      "text/plain": [
       "1"
      ]
     },
     "execution_count": 11,
     "metadata": {},
     "output_type": "execute_result"
    }
   ],
   "source": [
    "sports1['cricket']"
   ]
  },
  {
   "cell_type": "code",
   "execution_count": 12,
   "id": "f4952add",
   "metadata": {},
   "outputs": [
    {
     "data": {
      "text/plain": [
       "cricket     11\n",
       "football     2\n",
       "baseball     3\n",
       "golf         4\n",
       "dtype: int64"
      ]
     },
     "execution_count": 12,
     "metadata": {},
     "output_type": "execute_result"
    }
   ],
   "source": [
    "sports2=pd.Series([11,2,3,4],index=['cricket','football','baseball','golf'])\n",
    "sports2"
   ]
  },
  {
   "cell_type": "code",
   "execution_count": 13,
   "id": "43ffaf94",
   "metadata": {},
   "outputs": [
    {
     "data": {
      "text/plain": [
       "baseball       NaN\n",
       "basketball     NaN\n",
       "cricket       12.0\n",
       "football       4.0\n",
       "golf           8.0\n",
       "dtype: float64"
      ]
     },
     "execution_count": 13,
     "metadata": {},
     "output_type": "execute_result"
    }
   ],
   "source": [
    "sports1+sports2"
   ]
  },
  {
   "cell_type": "code",
   "execution_count": 20,
   "id": "09f1febd",
   "metadata": {},
   "outputs": [
    {
     "data": {
      "text/plain": [
       "A    0.967630\n",
       "B    0.831773\n",
       "C    0.312581\n",
       "D    0.071372\n",
       "E    0.702401\n",
       "F    0.672305\n",
       "G    0.372588\n",
       "H    0.101410\n",
       "Name: Score3, dtype: float64"
      ]
     },
     "execution_count": 20,
     "metadata": {},
     "output_type": "execute_result"
    }
   ],
   "source": [
    "df1=pd.DataFrame(np.random.rand(8,5),index='A B C D E F G H '.split(),columns='Score1 Score2 Score3 Score4 Score5'.split())\n",
    "df1\n",
    "\n",
    "df1['Score3']"
   ]
  },
  {
   "cell_type": "code",
   "execution_count": 21,
   "id": "1e16d4da",
   "metadata": {},
   "outputs": [
    {
     "data": {
      "text/html": [
       "<div>\n",
       "<style scoped>\n",
       "    .dataframe tbody tr th:only-of-type {\n",
       "        vertical-align: middle;\n",
       "    }\n",
       "\n",
       "    .dataframe tbody tr th {\n",
       "        vertical-align: top;\n",
       "    }\n",
       "\n",
       "    .dataframe thead th {\n",
       "        text-align: right;\n",
       "    }\n",
       "</style>\n",
       "<table border=\"1\" class=\"dataframe\">\n",
       "  <thead>\n",
       "    <tr style=\"text-align: right;\">\n",
       "      <th></th>\n",
       "      <th>Score1</th>\n",
       "      <th>Score2</th>\n",
       "      <th>Score3</th>\n",
       "      <th>Score4</th>\n",
       "      <th>Score5</th>\n",
       "      <th>Score6</th>\n",
       "    </tr>\n",
       "  </thead>\n",
       "  <tbody>\n",
       "    <tr>\n",
       "      <th>A</th>\n",
       "      <td>0.248678</td>\n",
       "      <td>0.557327</td>\n",
       "      <td>0.967630</td>\n",
       "      <td>0.534144</td>\n",
       "      <td>0.412394</td>\n",
       "      <td>0.806005</td>\n",
       "    </tr>\n",
       "    <tr>\n",
       "      <th>B</th>\n",
       "      <td>0.726406</td>\n",
       "      <td>0.295095</td>\n",
       "      <td>0.831773</td>\n",
       "      <td>0.770903</td>\n",
       "      <td>0.441245</td>\n",
       "      <td>1.021501</td>\n",
       "    </tr>\n",
       "    <tr>\n",
       "      <th>C</th>\n",
       "      <td>0.205263</td>\n",
       "      <td>0.517968</td>\n",
       "      <td>0.312581</td>\n",
       "      <td>0.002323</td>\n",
       "      <td>0.736885</td>\n",
       "      <td>0.723231</td>\n",
       "    </tr>\n",
       "    <tr>\n",
       "      <th>D</th>\n",
       "      <td>0.498420</td>\n",
       "      <td>0.686638</td>\n",
       "      <td>0.071372</td>\n",
       "      <td>0.101319</td>\n",
       "      <td>0.870386</td>\n",
       "      <td>1.185057</td>\n",
       "    </tr>\n",
       "    <tr>\n",
       "      <th>E</th>\n",
       "      <td>0.183484</td>\n",
       "      <td>0.589964</td>\n",
       "      <td>0.702401</td>\n",
       "      <td>0.741564</td>\n",
       "      <td>0.021526</td>\n",
       "      <td>0.773448</td>\n",
       "    </tr>\n",
       "    <tr>\n",
       "      <th>F</th>\n",
       "      <td>0.687411</td>\n",
       "      <td>0.819801</td>\n",
       "      <td>0.672305</td>\n",
       "      <td>0.488278</td>\n",
       "      <td>0.899535</td>\n",
       "      <td>1.507211</td>\n",
       "    </tr>\n",
       "    <tr>\n",
       "      <th>G</th>\n",
       "      <td>0.569012</td>\n",
       "      <td>0.226284</td>\n",
       "      <td>0.372588</td>\n",
       "      <td>0.909199</td>\n",
       "      <td>0.339100</td>\n",
       "      <td>0.795297</td>\n",
       "    </tr>\n",
       "    <tr>\n",
       "      <th>H</th>\n",
       "      <td>0.044204</td>\n",
       "      <td>0.320159</td>\n",
       "      <td>0.101410</td>\n",
       "      <td>0.245507</td>\n",
       "      <td>0.627796</td>\n",
       "      <td>0.364363</td>\n",
       "    </tr>\n",
       "  </tbody>\n",
       "</table>\n",
       "</div>"
      ],
      "text/plain": [
       "     Score1    Score2    Score3    Score4    Score5    Score6\n",
       "A  0.248678  0.557327  0.967630  0.534144  0.412394  0.806005\n",
       "B  0.726406  0.295095  0.831773  0.770903  0.441245  1.021501\n",
       "C  0.205263  0.517968  0.312581  0.002323  0.736885  0.723231\n",
       "D  0.498420  0.686638  0.071372  0.101319  0.870386  1.185057\n",
       "E  0.183484  0.589964  0.702401  0.741564  0.021526  0.773448\n",
       "F  0.687411  0.819801  0.672305  0.488278  0.899535  1.507211\n",
       "G  0.569012  0.226284  0.372588  0.909199  0.339100  0.795297\n",
       "H  0.044204  0.320159  0.101410  0.245507  0.627796  0.364363"
      ]
     },
     "execution_count": 21,
     "metadata": {},
     "output_type": "execute_result"
    }
   ],
   "source": [
    "df1[['Score2','Score1']]\n",
    "\n",
    "df1['Score6']=df1['Score1']+df1['Score2']\n",
    "df1\n",
    "\n"
   ]
  },
  {
   "cell_type": "code",
   "execution_count": 22,
   "id": "1e84d015",
   "metadata": {},
   "outputs": [
    {
     "data": {
      "text/html": [
       "<div>\n",
       "<style scoped>\n",
       "    .dataframe tbody tr th:only-of-type {\n",
       "        vertical-align: middle;\n",
       "    }\n",
       "\n",
       "    .dataframe tbody tr th {\n",
       "        vertical-align: top;\n",
       "    }\n",
       "\n",
       "    .dataframe thead th {\n",
       "        text-align: right;\n",
       "    }\n",
       "</style>\n",
       "<table border=\"1\" class=\"dataframe\">\n",
       "  <thead>\n",
       "    <tr style=\"text-align: right;\">\n",
       "      <th></th>\n",
       "      <th>Score1</th>\n",
       "      <th>Score2</th>\n",
       "      <th>Score3</th>\n",
       "      <th>Score4</th>\n",
       "      <th>Score6</th>\n",
       "    </tr>\n",
       "  </thead>\n",
       "  <tbody>\n",
       "    <tr>\n",
       "      <th>A</th>\n",
       "      <td>0.248678</td>\n",
       "      <td>0.557327</td>\n",
       "      <td>0.967630</td>\n",
       "      <td>0.534144</td>\n",
       "      <td>0.806005</td>\n",
       "    </tr>\n",
       "    <tr>\n",
       "      <th>B</th>\n",
       "      <td>0.726406</td>\n",
       "      <td>0.295095</td>\n",
       "      <td>0.831773</td>\n",
       "      <td>0.770903</td>\n",
       "      <td>1.021501</td>\n",
       "    </tr>\n",
       "    <tr>\n",
       "      <th>C</th>\n",
       "      <td>0.205263</td>\n",
       "      <td>0.517968</td>\n",
       "      <td>0.312581</td>\n",
       "      <td>0.002323</td>\n",
       "      <td>0.723231</td>\n",
       "    </tr>\n",
       "    <tr>\n",
       "      <th>D</th>\n",
       "      <td>0.498420</td>\n",
       "      <td>0.686638</td>\n",
       "      <td>0.071372</td>\n",
       "      <td>0.101319</td>\n",
       "      <td>1.185057</td>\n",
       "    </tr>\n",
       "    <tr>\n",
       "      <th>E</th>\n",
       "      <td>0.183484</td>\n",
       "      <td>0.589964</td>\n",
       "      <td>0.702401</td>\n",
       "      <td>0.741564</td>\n",
       "      <td>0.773448</td>\n",
       "    </tr>\n",
       "    <tr>\n",
       "      <th>F</th>\n",
       "      <td>0.687411</td>\n",
       "      <td>0.819801</td>\n",
       "      <td>0.672305</td>\n",
       "      <td>0.488278</td>\n",
       "      <td>1.507211</td>\n",
       "    </tr>\n",
       "    <tr>\n",
       "      <th>G</th>\n",
       "      <td>0.569012</td>\n",
       "      <td>0.226284</td>\n",
       "      <td>0.372588</td>\n",
       "      <td>0.909199</td>\n",
       "      <td>0.795297</td>\n",
       "    </tr>\n",
       "    <tr>\n",
       "      <th>H</th>\n",
       "      <td>0.044204</td>\n",
       "      <td>0.320159</td>\n",
       "      <td>0.101410</td>\n",
       "      <td>0.245507</td>\n",
       "      <td>0.364363</td>\n",
       "    </tr>\n",
       "  </tbody>\n",
       "</table>\n",
       "</div>"
      ],
      "text/plain": [
       "     Score1    Score2    Score3    Score4    Score6\n",
       "A  0.248678  0.557327  0.967630  0.534144  0.806005\n",
       "B  0.726406  0.295095  0.831773  0.770903  1.021501\n",
       "C  0.205263  0.517968  0.312581  0.002323  0.723231\n",
       "D  0.498420  0.686638  0.071372  0.101319  1.185057\n",
       "E  0.183484  0.589964  0.702401  0.741564  0.773448\n",
       "F  0.687411  0.819801  0.672305  0.488278  1.507211\n",
       "G  0.569012  0.226284  0.372588  0.909199  0.795297\n",
       "H  0.044204  0.320159  0.101410  0.245507  0.364363"
      ]
     },
     "execution_count": 22,
     "metadata": {},
     "output_type": "execute_result"
    }
   ],
   "source": [
    "df1.drop('Score5',axis=1)\n",
    "\n"
   ]
  },
  {
   "cell_type": "code",
   "execution_count": 23,
   "id": "db9b255d",
   "metadata": {},
   "outputs": [
    {
     "data": {
      "text/html": [
       "<div>\n",
       "<style scoped>\n",
       "    .dataframe tbody tr th:only-of-type {\n",
       "        vertical-align: middle;\n",
       "    }\n",
       "\n",
       "    .dataframe tbody tr th {\n",
       "        vertical-align: top;\n",
       "    }\n",
       "\n",
       "    .dataframe thead th {\n",
       "        text-align: right;\n",
       "    }\n",
       "</style>\n",
       "<table border=\"1\" class=\"dataframe\">\n",
       "  <thead>\n",
       "    <tr style=\"text-align: right;\">\n",
       "      <th></th>\n",
       "      <th>index</th>\n",
       "      <th>Score1</th>\n",
       "      <th>Score2</th>\n",
       "      <th>Score3</th>\n",
       "      <th>Score4</th>\n",
       "      <th>Score5</th>\n",
       "      <th>Score6</th>\n",
       "    </tr>\n",
       "  </thead>\n",
       "  <tbody>\n",
       "    <tr>\n",
       "      <th>0</th>\n",
       "      <td>A</td>\n",
       "      <td>0.248678</td>\n",
       "      <td>0.557327</td>\n",
       "      <td>0.967630</td>\n",
       "      <td>0.534144</td>\n",
       "      <td>0.412394</td>\n",
       "      <td>0.806005</td>\n",
       "    </tr>\n",
       "    <tr>\n",
       "      <th>1</th>\n",
       "      <td>B</td>\n",
       "      <td>0.726406</td>\n",
       "      <td>0.295095</td>\n",
       "      <td>0.831773</td>\n",
       "      <td>0.770903</td>\n",
       "      <td>0.441245</td>\n",
       "      <td>1.021501</td>\n",
       "    </tr>\n",
       "    <tr>\n",
       "      <th>2</th>\n",
       "      <td>C</td>\n",
       "      <td>0.205263</td>\n",
       "      <td>0.517968</td>\n",
       "      <td>0.312581</td>\n",
       "      <td>0.002323</td>\n",
       "      <td>0.736885</td>\n",
       "      <td>0.723231</td>\n",
       "    </tr>\n",
       "    <tr>\n",
       "      <th>3</th>\n",
       "      <td>D</td>\n",
       "      <td>0.498420</td>\n",
       "      <td>0.686638</td>\n",
       "      <td>0.071372</td>\n",
       "      <td>0.101319</td>\n",
       "      <td>0.870386</td>\n",
       "      <td>1.185057</td>\n",
       "    </tr>\n",
       "    <tr>\n",
       "      <th>4</th>\n",
       "      <td>E</td>\n",
       "      <td>0.183484</td>\n",
       "      <td>0.589964</td>\n",
       "      <td>0.702401</td>\n",
       "      <td>0.741564</td>\n",
       "      <td>0.021526</td>\n",
       "      <td>0.773448</td>\n",
       "    </tr>\n",
       "    <tr>\n",
       "      <th>5</th>\n",
       "      <td>F</td>\n",
       "      <td>0.687411</td>\n",
       "      <td>0.819801</td>\n",
       "      <td>0.672305</td>\n",
       "      <td>0.488278</td>\n",
       "      <td>0.899535</td>\n",
       "      <td>1.507211</td>\n",
       "    </tr>\n",
       "    <tr>\n",
       "      <th>6</th>\n",
       "      <td>G</td>\n",
       "      <td>0.569012</td>\n",
       "      <td>0.226284</td>\n",
       "      <td>0.372588</td>\n",
       "      <td>0.909199</td>\n",
       "      <td>0.339100</td>\n",
       "      <td>0.795297</td>\n",
       "    </tr>\n",
       "    <tr>\n",
       "      <th>7</th>\n",
       "      <td>H</td>\n",
       "      <td>0.044204</td>\n",
       "      <td>0.320159</td>\n",
       "      <td>0.101410</td>\n",
       "      <td>0.245507</td>\n",
       "      <td>0.627796</td>\n",
       "      <td>0.364363</td>\n",
       "    </tr>\n",
       "  </tbody>\n",
       "</table>\n",
       "</div>"
      ],
      "text/plain": [
       "  index    Score1    Score2    Score3    Score4    Score5    Score6\n",
       "0     A  0.248678  0.557327  0.967630  0.534144  0.412394  0.806005\n",
       "1     B  0.726406  0.295095  0.831773  0.770903  0.441245  1.021501\n",
       "2     C  0.205263  0.517968  0.312581  0.002323  0.736885  0.723231\n",
       "3     D  0.498420  0.686638  0.071372  0.101319  0.870386  1.185057\n",
       "4     E  0.183484  0.589964  0.702401  0.741564  0.021526  0.773448\n",
       "5     F  0.687411  0.819801  0.672305  0.488278  0.899535  1.507211\n",
       "6     G  0.569012  0.226284  0.372588  0.909199  0.339100  0.795297\n",
       "7     H  0.044204  0.320159  0.101410  0.245507  0.627796  0.364363"
      ]
     },
     "execution_count": 23,
     "metadata": {},
     "output_type": "execute_result"
    }
   ],
   "source": [
    "df1.reset_index()"
   ]
  },
  {
   "cell_type": "code",
   "execution_count": 24,
   "id": "60ba67c9",
   "metadata": {},
   "outputs": [
    {
     "data": {
      "text/html": [
       "<div>\n",
       "<style scoped>\n",
       "    .dataframe tbody tr th:only-of-type {\n",
       "        vertical-align: middle;\n",
       "    }\n",
       "\n",
       "    .dataframe tbody tr th {\n",
       "        vertical-align: top;\n",
       "    }\n",
       "\n",
       "    .dataframe thead th {\n",
       "        text-align: right;\n",
       "    }\n",
       "</style>\n",
       "<table border=\"1\" class=\"dataframe\">\n",
       "  <thead>\n",
       "    <tr style=\"text-align: right;\">\n",
       "      <th></th>\n",
       "      <th>index</th>\n",
       "      <th>Score1</th>\n",
       "      <th>Score2</th>\n",
       "      <th>Score3</th>\n",
       "      <th>Score4</th>\n",
       "      <th>Score5</th>\n",
       "      <th>Score6</th>\n",
       "    </tr>\n",
       "  </thead>\n",
       "  <tbody>\n",
       "    <tr>\n",
       "      <th>0</th>\n",
       "      <td>A</td>\n",
       "      <td>0.248678</td>\n",
       "      <td>0.557327</td>\n",
       "      <td>0.967630</td>\n",
       "      <td>0.534144</td>\n",
       "      <td>0.412394</td>\n",
       "      <td>0.806005</td>\n",
       "    </tr>\n",
       "    <tr>\n",
       "      <th>1</th>\n",
       "      <td>B</td>\n",
       "      <td>0.726406</td>\n",
       "      <td>0.295095</td>\n",
       "      <td>0.831773</td>\n",
       "      <td>0.770903</td>\n",
       "      <td>0.441245</td>\n",
       "      <td>1.021501</td>\n",
       "    </tr>\n",
       "    <tr>\n",
       "      <th>2</th>\n",
       "      <td>C</td>\n",
       "      <td>0.205263</td>\n",
       "      <td>0.517968</td>\n",
       "      <td>0.312581</td>\n",
       "      <td>0.002323</td>\n",
       "      <td>0.736885</td>\n",
       "      <td>0.723231</td>\n",
       "    </tr>\n",
       "    <tr>\n",
       "      <th>3</th>\n",
       "      <td>D</td>\n",
       "      <td>0.498420</td>\n",
       "      <td>0.686638</td>\n",
       "      <td>0.071372</td>\n",
       "      <td>0.101319</td>\n",
       "      <td>0.870386</td>\n",
       "      <td>1.185057</td>\n",
       "    </tr>\n",
       "    <tr>\n",
       "      <th>4</th>\n",
       "      <td>E</td>\n",
       "      <td>0.183484</td>\n",
       "      <td>0.589964</td>\n",
       "      <td>0.702401</td>\n",
       "      <td>0.741564</td>\n",
       "      <td>0.021526</td>\n",
       "      <td>0.773448</td>\n",
       "    </tr>\n",
       "    <tr>\n",
       "      <th>5</th>\n",
       "      <td>F</td>\n",
       "      <td>0.687411</td>\n",
       "      <td>0.819801</td>\n",
       "      <td>0.672305</td>\n",
       "      <td>0.488278</td>\n",
       "      <td>0.899535</td>\n",
       "      <td>1.507211</td>\n",
       "    </tr>\n",
       "    <tr>\n",
       "      <th>6</th>\n",
       "      <td>G</td>\n",
       "      <td>0.569012</td>\n",
       "      <td>0.226284</td>\n",
       "      <td>0.372588</td>\n",
       "      <td>0.909199</td>\n",
       "      <td>0.339100</td>\n",
       "      <td>0.795297</td>\n",
       "    </tr>\n",
       "    <tr>\n",
       "      <th>7</th>\n",
       "      <td>H</td>\n",
       "      <td>0.044204</td>\n",
       "      <td>0.320159</td>\n",
       "      <td>0.101410</td>\n",
       "      <td>0.245507</td>\n",
       "      <td>0.627796</td>\n",
       "      <td>0.364363</td>\n",
       "    </tr>\n",
       "  </tbody>\n",
       "</table>\n",
       "</div>"
      ],
      "text/plain": [
       "  index    Score1    Score2    Score3    Score4    Score5    Score6\n",
       "0     A  0.248678  0.557327  0.967630  0.534144  0.412394  0.806005\n",
       "1     B  0.726406  0.295095  0.831773  0.770903  0.441245  1.021501\n",
       "2     C  0.205263  0.517968  0.312581  0.002323  0.736885  0.723231\n",
       "3     D  0.498420  0.686638  0.071372  0.101319  0.870386  1.185057\n",
       "4     E  0.183484  0.589964  0.702401  0.741564  0.021526  0.773448\n",
       "5     F  0.687411  0.819801  0.672305  0.488278  0.899535  1.507211\n",
       "6     G  0.569012  0.226284  0.372588  0.909199  0.339100  0.795297\n",
       "7     H  0.044204  0.320159  0.101410  0.245507  0.627796  0.364363"
      ]
     },
     "execution_count": 24,
     "metadata": {},
     "output_type": "execute_result"
    }
   ],
   "source": [
    "df1.reset_index()"
   ]
  },
  {
   "cell_type": "code",
   "execution_count": 25,
   "id": "ffdb4bd3",
   "metadata": {},
   "outputs": [
    {
     "data": {
      "text/html": [
       "<div>\n",
       "<style scoped>\n",
       "    .dataframe tbody tr th:only-of-type {\n",
       "        vertical-align: middle;\n",
       "    }\n",
       "\n",
       "    .dataframe tbody tr th {\n",
       "        vertical-align: top;\n",
       "    }\n",
       "\n",
       "    .dataframe thead th {\n",
       "        text-align: right;\n",
       "    }\n",
       "</style>\n",
       "<table border=\"1\" class=\"dataframe\">\n",
       "  <thead>\n",
       "    <tr style=\"text-align: right;\">\n",
       "      <th></th>\n",
       "      <th>ID</th>\n",
       "      <th>Name</th>\n",
       "      <th>Profit</th>\n",
       "    </tr>\n",
       "  </thead>\n",
       "  <tbody>\n",
       "    <tr>\n",
       "      <th>0</th>\n",
       "      <td>101</td>\n",
       "      <td>John</td>\n",
       "      <td>20</td>\n",
       "    </tr>\n",
       "    <tr>\n",
       "      <th>1</th>\n",
       "      <td>102</td>\n",
       "      <td>Mercy</td>\n",
       "      <td>54</td>\n",
       "    </tr>\n",
       "    <tr>\n",
       "      <th>2</th>\n",
       "      <td>103</td>\n",
       "      <td>Akash</td>\n",
       "      <td>56</td>\n",
       "    </tr>\n",
       "    <tr>\n",
       "      <th>3</th>\n",
       "      <td>107</td>\n",
       "      <td>Kavin</td>\n",
       "      <td>87</td>\n",
       "    </tr>\n",
       "    <tr>\n",
       "      <th>4</th>\n",
       "      <td>176</td>\n",
       "      <td>Lally</td>\n",
       "      <td>123</td>\n",
       "    </tr>\n",
       "  </tbody>\n",
       "</table>\n",
       "</div>"
      ],
      "text/plain": [
       "    ID   Name  Profit\n",
       "0  101   John      20\n",
       "1  102  Mercy      54\n",
       "2  103  Akash      56\n",
       "3  107  Kavin      87\n",
       "4  176  Lally     123"
      ]
     },
     "execution_count": 25,
     "metadata": {},
     "output_type": "execute_result"
    }
   ],
   "source": [
    "df2={'ID':['101','102','103','107','176'],'Name':['John','Mercy','Akash','Kavin','Lally'],'Profit':[20,54,56,87,123]}\n",
    "df=pd.DataFrame(df2)\n",
    "df"
   ]
  },
  {
   "cell_type": "code",
   "execution_count": null,
   "id": "da3eded9",
   "metadata": {},
   "outputs": [],
   "source": []
  }
 ],
 "metadata": {
  "kernelspec": {
   "display_name": "Python 3",
   "language": "python",
   "name": "python3"
  },
  "language_info": {
   "codemirror_mode": {
    "name": "ipython",
    "version": 3
   },
   "file_extension": ".py",
   "mimetype": "text/x-python",
   "name": "python",
   "nbconvert_exporter": "python",
   "pygments_lexer": "ipython3",
   "version": "3.8.8"
  }
 },
 "nbformat": 4,
 "nbformat_minor": 5
}
